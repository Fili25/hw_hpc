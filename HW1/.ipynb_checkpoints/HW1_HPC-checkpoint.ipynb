{
 "cells": [
  {
   "cell_type": "markdown",
   "id": "emdGUktsb0Zz",
   "metadata": {
    "id": "emdGUktsb0Zz"
   },
   "source": [
    "https://colab.research.google.com/drive/1MhilX3YsOvxzqfBAuMuVPH8J-biMDaFX?usp=sharing"
   ]
  },
  {
   "cell_type": "markdown",
   "id": "04517389",
   "metadata": {
    "id": "04517389"
   },
   "source": [
    "# На основании данных рейтинга top500 спрогнозировать  производительность компьютера №1 в 2025"
   ]
  },
  {
   "cell_type": "code",
   "execution_count": 1,
   "id": "1fb681ed",
   "metadata": {
    "colab": {
     "base_uri": "https://localhost:8080/",
     "height": 201
    },
    "id": "1fb681ed",
    "outputId": "a4179824-32e1-4d65-bc69-46e6793398a9"
   },
   "outputs": [
    {
     "ename": "ModuleNotFoundError",
     "evalue": "No module named 'pandas'",
     "output_type": "error",
     "traceback": [
      "\u001b[0;31m---------------------------------------------------------------------------\u001b[0m",
      "\u001b[0;31mModuleNotFoundError\u001b[0m                       Traceback (most recent call last)",
      "Cell \u001b[0;32mIn[1], line 1\u001b[0m\n\u001b[0;32m----> 1\u001b[0m \u001b[38;5;28;01mimport\u001b[39;00m \u001b[38;5;21;01mpandas\u001b[39;00m \u001b[38;5;28;01mas\u001b[39;00m \u001b[38;5;21;01mpd\u001b[39;00m\n\u001b[1;32m      3\u001b[0m names \u001b[38;5;241m=\u001b[39m [\u001b[38;5;124m'\u001b[39m\u001b[38;5;124mdate\u001b[39m\u001b[38;5;124m'\u001b[39m, \u001b[38;5;124m'\u001b[39m\u001b[38;5;124msum\u001b[39m\u001b[38;5;124m'\u001b[39m, \u001b[38;5;124m'\u001b[39m\u001b[38;5;124msum_str\u001b[39m\u001b[38;5;124m'\u001b[39m, \u001b[38;5;124m'\u001b[39m\u001b[38;5;124m№1\u001b[39m\u001b[38;5;124m'\u001b[39m, \u001b[38;5;124m'\u001b[39m\u001b[38;5;124m№1_str\u001b[39m\u001b[38;5;124m'\u001b[39m, \u001b[38;5;124m'\u001b[39m\u001b[38;5;124m№500\u001b[39m\u001b[38;5;124m'\u001b[39m, \u001b[38;5;124m'\u001b[39m\u001b[38;5;124m№500_str\u001b[39m\u001b[38;5;124m'\u001b[39m]\n\u001b[1;32m      4\u001b[0m raw_http_df \u001b[38;5;241m=\u001b[39m pd\u001b[38;5;241m.\u001b[39mread_csv(\u001b[38;5;124m'\u001b[39m\u001b[38;5;124mtop500.csv\u001b[39m\u001b[38;5;124m'\u001b[39m, names\u001b[38;5;241m=\u001b[39mnames)\n",
      "\u001b[0;31mModuleNotFoundError\u001b[0m: No module named 'pandas'"
     ]
    }
   ],
   "source": [
    "import pandas as pd\n",
    "\n",
    "names = ['date', 'sum', 'sum_str', '№1', '№1_str', '№500', '№500_str']\n",
    "raw_http_df = pd.read_csv('top500.csv', names=names)\n",
    "raw_http_df.head()"
   ]
  },
  {
   "cell_type": "code",
   "execution_count": 2,
   "id": "f9b08fd8",
   "metadata": {
    "colab": {
     "base_uri": "https://localhost:8080/",
     "height": 201
    },
    "id": "f9b08fd8",
    "outputId": "be81a312-9570-408d-b5dc-181ed8806917"
   },
   "outputs": [
    {
     "ename": "NameError",
     "evalue": "name 'raw_http_df' is not defined",
     "output_type": "error",
     "traceback": [
      "\u001b[0;31m---------------------------------------------------------------------------\u001b[0m",
      "\u001b[0;31mNameError\u001b[0m                                 Traceback (most recent call last)",
      "Cell \u001b[0;32mIn[2], line 1\u001b[0m\n\u001b[0;32m----> 1\u001b[0m df \u001b[38;5;241m=\u001b[39m \u001b[43mraw_http_df\u001b[49m[[\u001b[38;5;124m'\u001b[39m\u001b[38;5;124mdate\u001b[39m\u001b[38;5;124m'\u001b[39m, \u001b[38;5;124m'\u001b[39m\u001b[38;5;124m№1\u001b[39m\u001b[38;5;124m'\u001b[39m]]\n\u001b[1;32m      2\u001b[0m df\u001b[38;5;241m.\u001b[39mtail()\n",
      "\u001b[0;31mNameError\u001b[0m: name 'raw_http_df' is not defined"
     ]
    }
   ],
   "source": [
    "df = raw_http_df[['date', '№1']]\n",
    "df.tail()"
   ]
  },
  {
   "cell_type": "code",
   "execution_count": 3,
   "id": "333c0a50",
   "metadata": {
    "id": "333c0a50"
   },
   "outputs": [
    {
     "ename": "ModuleNotFoundError",
     "evalue": "No module named 'numpy'",
     "output_type": "error",
     "traceback": [
      "\u001b[0;31m---------------------------------------------------------------------------\u001b[0m",
      "\u001b[0;31mModuleNotFoundError\u001b[0m                       Traceback (most recent call last)",
      "Cell \u001b[0;32mIn[3], line 1\u001b[0m\n\u001b[0;32m----> 1\u001b[0m \u001b[38;5;28;01mimport\u001b[39;00m \u001b[38;5;21;01mnumpy\u001b[39;00m \u001b[38;5;28;01mas\u001b[39;00m \u001b[38;5;21;01mnp\u001b[39;00m\n\u001b[1;32m      2\u001b[0m \u001b[38;5;28;01mfrom\u001b[39;00m \u001b[38;5;21;01msklearn\u001b[39;00m \u001b[38;5;28;01mimport\u001b[39;00m linear_model\n\u001b[1;32m      5\u001b[0m \u001b[38;5;28;01mdef\u001b[39;00m \u001b[38;5;21mget_data\u001b[39m(df):\n\u001b[1;32m      6\u001b[0m     \u001b[38;5;66;03m# x = (raiting list #)\u001b[39;00m\n",
      "\u001b[0;31mModuleNotFoundError\u001b[0m: No module named 'numpy'"
     ]
    }
   ],
   "source": [
    "import numpy as np\n",
    "from sklearn import linear_model\n",
    "\n",
    "\n",
    "def get_data(df):\n",
    "    # x = (raiting list #)\n",
    "    x = df.index.to_numpy().reshape(-1, 1)\n",
    "    y = np.log(df['№1'])\n",
    "    return x, y\n",
    "\n",
    "def get_x_to_predict(df):\n",
    "    # x = (raiting list #)\n",
    "    x = df.index.to_numpy().reshape(-1, 1)\n",
    "    dates_to_pred = ['2021-10-1', '2022-05-1', '2022-10-1', '2023-05-1',\n",
    "                     '2023-10-1', '2024-05-1', '2024-10-1', '2025-05-1']\n",
    "    x_to_pred = np.arange(x[-1:] + 1, x[-1:] + len(dates_to_pred) + 1)\n",
    "    return x_to_pred.reshape(-1, 1)\n",
    "\n",
    "    xs, y = get_data(df)\n",
    "    xp = get_x_to_predict(df)\n",
    "    model = linear_model.Ridge(fit_intercept=True).fit(xs, y)\n",
    "    ys = model.predict(xs)\n",
    "    yp = model.predict(xp)\n",
    "    print(model.coef_)"
   ]
  },
  {
   "cell_type": "code",
   "execution_count": 4,
   "id": "a2324f45",
   "metadata": {
    "colab": {
     "base_uri": "https://localhost:8080/",
     "height": 336
    },
    "id": "a2324f45",
    "outputId": "2bbb30e8-1695-432c-de82-8eabe8bb0806"
   },
   "outputs": [
    {
     "ename": "ModuleNotFoundError",
     "evalue": "No module named 'matplotlib'",
     "output_type": "error",
     "traceback": [
      "\u001b[0;31m---------------------------------------------------------------------------\u001b[0m",
      "\u001b[0;31mModuleNotFoundError\u001b[0m                       Traceback (most recent call last)",
      "Cell \u001b[0;32mIn[4], line 1\u001b[0m\n\u001b[0;32m----> 1\u001b[0m \u001b[38;5;28;01mimport\u001b[39;00m \u001b[38;5;21;01mmatplotlib\u001b[39;00m \u001b[38;5;28;01mas\u001b[39;00m \u001b[38;5;21;01mmpl\u001b[39;00m\n\u001b[1;32m      2\u001b[0m \u001b[38;5;28;01mimport\u001b[39;00m \u001b[38;5;21;01mmatplotlib\u001b[39;00m\u001b[38;5;21;01m.\u001b[39;00m\u001b[38;5;21;01mpyplot\u001b[39;00m \u001b[38;5;28;01mas\u001b[39;00m \u001b[38;5;21;01mplt\u001b[39;00m\n\u001b[1;32m      3\u001b[0m figsize \u001b[38;5;241m=\u001b[39m (\u001b[38;5;241m16\u001b[39m,\u001b[38;5;241m5\u001b[39m)\n",
      "\u001b[0;31mModuleNotFoundError\u001b[0m: No module named 'matplotlib'"
     ]
    }
   ],
   "source": [
    "import matplotlib as mpl\n",
    "import matplotlib.pyplot as plt\n",
    "figsize = (16,5)\n",
    "legend_fontsize = 16\n",
    "\n",
    "fig, ax = plt.subplots(figsize=figsize)\n",
    "ax.plot(ys, linewidth=2, color='red', label='model')\n",
    "ax.scatter(xs, y, color='grey', label='train')\n",
    "ax.scatter(xp, yp, color='blue', label='predict')\n",
    "ax.legend(fontsize=legend_fontsize)\n",
    "plt.show()\n",
    "\n",
    "print(f'Производительность топ компьютера на 2025 год - {np.exp(yp[-1:])/10**9} Экзафлопс/с', )"
   ]
  },
  {
   "cell_type": "markdown",
   "id": "IvNJFJ-wQsp8",
   "metadata": {
    "id": "IvNJFJ-wQsp8"
   },
   "source": [
    "# Оцените, какой процент всего производимого на Земле электричества потребляют все компьютеры из top500 (на основании открытых данных top500.org)"
   ]
  },
  {
   "cell_type": "code",
   "execution_count": 22,
   "id": "Y2JWPVXNMNUZ",
   "metadata": {
    "colab": {
     "base_uri": "https://localhost:8080/"
    },
    "id": "Y2JWPVXNMNUZ",
    "outputId": "01b0db7f-9b4b-47b4-ff8b-0ec49450729c"
   },
   "outputs": [
    {
     "name": "stdout",
     "output_type": "stream",
     "text": [
      "Электричество постребляемое компьютерами из TOP500 - 0.000344 ТВт*ч\n",
      "Это составляет 0.0000013% от всего производимого электричества на Земле\n"
     ]
    }
   ],
   "source": [
    "\n",
    "with open('energy_consumption_raw.txt', 'r') as f:\n",
    "    total_energy = 0\n",
    "    for line in f.readlines():\n",
    "        pos = line.find('eff')\n",
    "        if pos != -1:\n",
    "            E = float(line[(pos+5):][:-2])\n",
    "            total_energy += E\n",
    "    print(f'Электричество постребляемое компьютерами из TOP500 - {round((total_energy/10**9), 6)} ТВт*ч')\n",
    "    print(f'Это составляет {(total_energy/10**9)/26951*100:0.7f}% от всего производимого электричества на Земле')"
   ]
  }
 ],
 "metadata": {
  "colab": {
   "provenance": []
  },
  "kernelspec": {
   "display_name": "Python 3 (ipykernel)",
   "language": "python",
   "name": "python3"
  },
  "language_info": {
   "codemirror_mode": {
    "name": "ipython",
    "version": 3
   },
   "file_extension": ".py",
   "mimetype": "text/x-python",
   "name": "python",
   "nbconvert_exporter": "python",
   "pygments_lexer": "ipython3",
   "version": "3.10.7"
  }
 },
 "nbformat": 4,
 "nbformat_minor": 5
}
