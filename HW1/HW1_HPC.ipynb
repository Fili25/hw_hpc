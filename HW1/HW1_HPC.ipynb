{
  "cells": [
    {
      "cell_type": "markdown",
      "source": [
        "https://colab.research.google.com/drive/1MhilX3YsOvxzqfBAuMuVPH8J-biMDaFX?usp=sharing"
      ],
      "metadata": {
        "id": "emdGUktsb0Zz"
      },
      "id": "emdGUktsb0Zz"
    },
    {
      "cell_type": "markdown",
      "id": "04517389",
      "metadata": {
        "id": "04517389"
      },
      "source": [
        "# На основании данных рейтинга top500 спрогнозировать  производительность компьютера №1 в 2025"
      ]
    },
    {
      "cell_type": "code",
      "execution_count": 18,
      "id": "1fb681ed",
      "metadata": {
        "colab": {
          "base_uri": "https://localhost:8080/",
          "height": 201
        },
        "id": "1fb681ed",
        "outputId": "a4179824-32e1-4d65-bc69-46e6793398a9"
      },
      "outputs": [
        {
          "output_type": "execute_result",
          "data": {
            "text/plain": [
              "        date      sum                     sum_str     №1  \\\n",
              "0   1993-5-1  1128.57  06/1993: Sum = 1.1 TFlop/s   59.7   \n",
              "1  1993-10-1  1493.35  11/1993: Sum = 1.5 TFlop/s  124.0   \n",
              "2   1994-5-1  2317.01  06/1994: Sum = 2.3 TFlop/s  143.4   \n",
              "3  1994-10-1  2732.24  11/1994: Sum = 2.7 TFlop/s  170.0   \n",
              "4   1995-5-1  3927.00  06/1995: Sum = 3.9 TFlop/s  170.0   \n",
              "\n",
              "                        №1_str  №500                      №500_str  \n",
              "0   06/1993: #1 = 59.7 GFlop/s  0.42  06/1993: #500 = 0.4 GFlop/s]  \n",
              "1  11/1993: #1 = 124.0 GFlop/s  0.47  11/1993: #500 = 0.5 GFlop/s]  \n",
              "2  06/1994: #1 = 143.4 GFlop/s  0.84  06/1994: #500 = 0.8 GFlop/s]  \n",
              "3  11/1994: #1 = 170.0 GFlop/s  1.16  11/1994: #500 = 1.2 GFlop/s]  \n",
              "4  06/1995: #1 = 170.0 GFlop/s  1.96  06/1995: #500 = 2.0 GFlop/s]  "
            ],
            "text/html": [
              "\n",
              "  <div id=\"df-766dc804-cfd3-4a60-b402-ba9f84294128\">\n",
              "    <div class=\"colab-df-container\">\n",
              "      <div>\n",
              "<style scoped>\n",
              "    .dataframe tbody tr th:only-of-type {\n",
              "        vertical-align: middle;\n",
              "    }\n",
              "\n",
              "    .dataframe tbody tr th {\n",
              "        vertical-align: top;\n",
              "    }\n",
              "\n",
              "    .dataframe thead th {\n",
              "        text-align: right;\n",
              "    }\n",
              "</style>\n",
              "<table border=\"1\" class=\"dataframe\">\n",
              "  <thead>\n",
              "    <tr style=\"text-align: right;\">\n",
              "      <th></th>\n",
              "      <th>date</th>\n",
              "      <th>sum</th>\n",
              "      <th>sum_str</th>\n",
              "      <th>№1</th>\n",
              "      <th>№1_str</th>\n",
              "      <th>№500</th>\n",
              "      <th>№500_str</th>\n",
              "    </tr>\n",
              "  </thead>\n",
              "  <tbody>\n",
              "    <tr>\n",
              "      <th>0</th>\n",
              "      <td>1993-5-1</td>\n",
              "      <td>1128.57</td>\n",
              "      <td>06/1993: Sum = 1.1 TFlop/s</td>\n",
              "      <td>59.7</td>\n",
              "      <td>06/1993: #1 = 59.7 GFlop/s</td>\n",
              "      <td>0.42</td>\n",
              "      <td>06/1993: #500 = 0.4 GFlop/s]</td>\n",
              "    </tr>\n",
              "    <tr>\n",
              "      <th>1</th>\n",
              "      <td>1993-10-1</td>\n",
              "      <td>1493.35</td>\n",
              "      <td>11/1993: Sum = 1.5 TFlop/s</td>\n",
              "      <td>124.0</td>\n",
              "      <td>11/1993: #1 = 124.0 GFlop/s</td>\n",
              "      <td>0.47</td>\n",
              "      <td>11/1993: #500 = 0.5 GFlop/s]</td>\n",
              "    </tr>\n",
              "    <tr>\n",
              "      <th>2</th>\n",
              "      <td>1994-5-1</td>\n",
              "      <td>2317.01</td>\n",
              "      <td>06/1994: Sum = 2.3 TFlop/s</td>\n",
              "      <td>143.4</td>\n",
              "      <td>06/1994: #1 = 143.4 GFlop/s</td>\n",
              "      <td>0.84</td>\n",
              "      <td>06/1994: #500 = 0.8 GFlop/s]</td>\n",
              "    </tr>\n",
              "    <tr>\n",
              "      <th>3</th>\n",
              "      <td>1994-10-1</td>\n",
              "      <td>2732.24</td>\n",
              "      <td>11/1994: Sum = 2.7 TFlop/s</td>\n",
              "      <td>170.0</td>\n",
              "      <td>11/1994: #1 = 170.0 GFlop/s</td>\n",
              "      <td>1.16</td>\n",
              "      <td>11/1994: #500 = 1.2 GFlop/s]</td>\n",
              "    </tr>\n",
              "    <tr>\n",
              "      <th>4</th>\n",
              "      <td>1995-5-1</td>\n",
              "      <td>3927.00</td>\n",
              "      <td>06/1995: Sum = 3.9 TFlop/s</td>\n",
              "      <td>170.0</td>\n",
              "      <td>06/1995: #1 = 170.0 GFlop/s</td>\n",
              "      <td>1.96</td>\n",
              "      <td>06/1995: #500 = 2.0 GFlop/s]</td>\n",
              "    </tr>\n",
              "  </tbody>\n",
              "</table>\n",
              "</div>\n",
              "      <button class=\"colab-df-convert\" onclick=\"convertToInteractive('df-766dc804-cfd3-4a60-b402-ba9f84294128')\"\n",
              "              title=\"Convert this dataframe to an interactive table.\"\n",
              "              style=\"display:none;\">\n",
              "        \n",
              "  <svg xmlns=\"http://www.w3.org/2000/svg\" height=\"24px\"viewBox=\"0 0 24 24\"\n",
              "       width=\"24px\">\n",
              "    <path d=\"M0 0h24v24H0V0z\" fill=\"none\"/>\n",
              "    <path d=\"M18.56 5.44l.94 2.06.94-2.06 2.06-.94-2.06-.94-.94-2.06-.94 2.06-2.06.94zm-11 1L8.5 8.5l.94-2.06 2.06-.94-2.06-.94L8.5 2.5l-.94 2.06-2.06.94zm10 10l.94 2.06.94-2.06 2.06-.94-2.06-.94-.94-2.06-.94 2.06-2.06.94z\"/><path d=\"M17.41 7.96l-1.37-1.37c-.4-.4-.92-.59-1.43-.59-.52 0-1.04.2-1.43.59L10.3 9.45l-7.72 7.72c-.78.78-.78 2.05 0 2.83L4 21.41c.39.39.9.59 1.41.59.51 0 1.02-.2 1.41-.59l7.78-7.78 2.81-2.81c.8-.78.8-2.07 0-2.86zM5.41 20L4 18.59l7.72-7.72 1.47 1.35L5.41 20z\"/>\n",
              "  </svg>\n",
              "      </button>\n",
              "      \n",
              "  <style>\n",
              "    .colab-df-container {\n",
              "      display:flex;\n",
              "      flex-wrap:wrap;\n",
              "      gap: 12px;\n",
              "    }\n",
              "\n",
              "    .colab-df-convert {\n",
              "      background-color: #E8F0FE;\n",
              "      border: none;\n",
              "      border-radius: 50%;\n",
              "      cursor: pointer;\n",
              "      display: none;\n",
              "      fill: #1967D2;\n",
              "      height: 32px;\n",
              "      padding: 0 0 0 0;\n",
              "      width: 32px;\n",
              "    }\n",
              "\n",
              "    .colab-df-convert:hover {\n",
              "      background-color: #E2EBFA;\n",
              "      box-shadow: 0px 1px 2px rgba(60, 64, 67, 0.3), 0px 1px 3px 1px rgba(60, 64, 67, 0.15);\n",
              "      fill: #174EA6;\n",
              "    }\n",
              "\n",
              "    [theme=dark] .colab-df-convert {\n",
              "      background-color: #3B4455;\n",
              "      fill: #D2E3FC;\n",
              "    }\n",
              "\n",
              "    [theme=dark] .colab-df-convert:hover {\n",
              "      background-color: #434B5C;\n",
              "      box-shadow: 0px 1px 3px 1px rgba(0, 0, 0, 0.15);\n",
              "      filter: drop-shadow(0px 1px 2px rgba(0, 0, 0, 0.3));\n",
              "      fill: #FFFFFF;\n",
              "    }\n",
              "  </style>\n",
              "\n",
              "      <script>\n",
              "        const buttonEl =\n",
              "          document.querySelector('#df-766dc804-cfd3-4a60-b402-ba9f84294128 button.colab-df-convert');\n",
              "        buttonEl.style.display =\n",
              "          google.colab.kernel.accessAllowed ? 'block' : 'none';\n",
              "\n",
              "        async function convertToInteractive(key) {\n",
              "          const element = document.querySelector('#df-766dc804-cfd3-4a60-b402-ba9f84294128');\n",
              "          const dataTable =\n",
              "            await google.colab.kernel.invokeFunction('convertToInteractive',\n",
              "                                                     [key], {});\n",
              "          if (!dataTable) return;\n",
              "\n",
              "          const docLinkHtml = 'Like what you see? Visit the ' +\n",
              "            '<a target=\"_blank\" href=https://colab.research.google.com/notebooks/data_table.ipynb>data table notebook</a>'\n",
              "            + ' to learn more about interactive tables.';\n",
              "          element.innerHTML = '';\n",
              "          dataTable['output_type'] = 'display_data';\n",
              "          await google.colab.output.renderOutput(dataTable, element);\n",
              "          const docLink = document.createElement('div');\n",
              "          docLink.innerHTML = docLinkHtml;\n",
              "          element.appendChild(docLink);\n",
              "        }\n",
              "      </script>\n",
              "    </div>\n",
              "  </div>\n",
              "  "
            ]
          },
          "metadata": {},
          "execution_count": 18
        }
      ],
      "source": [
        "import pandas as pd\n",
        "\n",
        "names = ['date', 'sum', 'sum_str', '№1', '№1_str', '№500', '№500_str']\n",
        "raw_http_df = pd.read_csv('top500.csv', names=names)\n",
        "raw_http_df.head()"
      ]
    },
    {
      "cell_type": "code",
      "execution_count": 19,
      "id": "f9b08fd8",
      "metadata": {
        "colab": {
          "base_uri": "https://localhost:8080/",
          "height": 201
        },
        "id": "f9b08fd8",
        "outputId": "be81a312-9570-408d-b5dc-181ed8806917"
      },
      "outputs": [
        {
          "output_type": "execute_result",
          "data": {
            "text/plain": [
              "         date           №1\n",
              "52   2019-5-1  148600000.0\n",
              "53  2019-10-1  148600000.0\n",
              "54   2020-5-1  415530000.0\n",
              "55  2020-10-1  442010000.0\n",
              "56   2021-5-1  442010000.0"
            ],
            "text/html": [
              "\n",
              "  <div id=\"df-7d32ed67-accc-4d5d-802d-3c7f12b39732\">\n",
              "    <div class=\"colab-df-container\">\n",
              "      <div>\n",
              "<style scoped>\n",
              "    .dataframe tbody tr th:only-of-type {\n",
              "        vertical-align: middle;\n",
              "    }\n",
              "\n",
              "    .dataframe tbody tr th {\n",
              "        vertical-align: top;\n",
              "    }\n",
              "\n",
              "    .dataframe thead th {\n",
              "        text-align: right;\n",
              "    }\n",
              "</style>\n",
              "<table border=\"1\" class=\"dataframe\">\n",
              "  <thead>\n",
              "    <tr style=\"text-align: right;\">\n",
              "      <th></th>\n",
              "      <th>date</th>\n",
              "      <th>№1</th>\n",
              "    </tr>\n",
              "  </thead>\n",
              "  <tbody>\n",
              "    <tr>\n",
              "      <th>52</th>\n",
              "      <td>2019-5-1</td>\n",
              "      <td>148600000.0</td>\n",
              "    </tr>\n",
              "    <tr>\n",
              "      <th>53</th>\n",
              "      <td>2019-10-1</td>\n",
              "      <td>148600000.0</td>\n",
              "    </tr>\n",
              "    <tr>\n",
              "      <th>54</th>\n",
              "      <td>2020-5-1</td>\n",
              "      <td>415530000.0</td>\n",
              "    </tr>\n",
              "    <tr>\n",
              "      <th>55</th>\n",
              "      <td>2020-10-1</td>\n",
              "      <td>442010000.0</td>\n",
              "    </tr>\n",
              "    <tr>\n",
              "      <th>56</th>\n",
              "      <td>2021-5-1</td>\n",
              "      <td>442010000.0</td>\n",
              "    </tr>\n",
              "  </tbody>\n",
              "</table>\n",
              "</div>\n",
              "      <button class=\"colab-df-convert\" onclick=\"convertToInteractive('df-7d32ed67-accc-4d5d-802d-3c7f12b39732')\"\n",
              "              title=\"Convert this dataframe to an interactive table.\"\n",
              "              style=\"display:none;\">\n",
              "        \n",
              "  <svg xmlns=\"http://www.w3.org/2000/svg\" height=\"24px\"viewBox=\"0 0 24 24\"\n",
              "       width=\"24px\">\n",
              "    <path d=\"M0 0h24v24H0V0z\" fill=\"none\"/>\n",
              "    <path d=\"M18.56 5.44l.94 2.06.94-2.06 2.06-.94-2.06-.94-.94-2.06-.94 2.06-2.06.94zm-11 1L8.5 8.5l.94-2.06 2.06-.94-2.06-.94L8.5 2.5l-.94 2.06-2.06.94zm10 10l.94 2.06.94-2.06 2.06-.94-2.06-.94-.94-2.06-.94 2.06-2.06.94z\"/><path d=\"M17.41 7.96l-1.37-1.37c-.4-.4-.92-.59-1.43-.59-.52 0-1.04.2-1.43.59L10.3 9.45l-7.72 7.72c-.78.78-.78 2.05 0 2.83L4 21.41c.39.39.9.59 1.41.59.51 0 1.02-.2 1.41-.59l7.78-7.78 2.81-2.81c.8-.78.8-2.07 0-2.86zM5.41 20L4 18.59l7.72-7.72 1.47 1.35L5.41 20z\"/>\n",
              "  </svg>\n",
              "      </button>\n",
              "      \n",
              "  <style>\n",
              "    .colab-df-container {\n",
              "      display:flex;\n",
              "      flex-wrap:wrap;\n",
              "      gap: 12px;\n",
              "    }\n",
              "\n",
              "    .colab-df-convert {\n",
              "      background-color: #E8F0FE;\n",
              "      border: none;\n",
              "      border-radius: 50%;\n",
              "      cursor: pointer;\n",
              "      display: none;\n",
              "      fill: #1967D2;\n",
              "      height: 32px;\n",
              "      padding: 0 0 0 0;\n",
              "      width: 32px;\n",
              "    }\n",
              "\n",
              "    .colab-df-convert:hover {\n",
              "      background-color: #E2EBFA;\n",
              "      box-shadow: 0px 1px 2px rgba(60, 64, 67, 0.3), 0px 1px 3px 1px rgba(60, 64, 67, 0.15);\n",
              "      fill: #174EA6;\n",
              "    }\n",
              "\n",
              "    [theme=dark] .colab-df-convert {\n",
              "      background-color: #3B4455;\n",
              "      fill: #D2E3FC;\n",
              "    }\n",
              "\n",
              "    [theme=dark] .colab-df-convert:hover {\n",
              "      background-color: #434B5C;\n",
              "      box-shadow: 0px 1px 3px 1px rgba(0, 0, 0, 0.15);\n",
              "      filter: drop-shadow(0px 1px 2px rgba(0, 0, 0, 0.3));\n",
              "      fill: #FFFFFF;\n",
              "    }\n",
              "  </style>\n",
              "\n",
              "      <script>\n",
              "        const buttonEl =\n",
              "          document.querySelector('#df-7d32ed67-accc-4d5d-802d-3c7f12b39732 button.colab-df-convert');\n",
              "        buttonEl.style.display =\n",
              "          google.colab.kernel.accessAllowed ? 'block' : 'none';\n",
              "\n",
              "        async function convertToInteractive(key) {\n",
              "          const element = document.querySelector('#df-7d32ed67-accc-4d5d-802d-3c7f12b39732');\n",
              "          const dataTable =\n",
              "            await google.colab.kernel.invokeFunction('convertToInteractive',\n",
              "                                                     [key], {});\n",
              "          if (!dataTable) return;\n",
              "\n",
              "          const docLinkHtml = 'Like what you see? Visit the ' +\n",
              "            '<a target=\"_blank\" href=https://colab.research.google.com/notebooks/data_table.ipynb>data table notebook</a>'\n",
              "            + ' to learn more about interactive tables.';\n",
              "          element.innerHTML = '';\n",
              "          dataTable['output_type'] = 'display_data';\n",
              "          await google.colab.output.renderOutput(dataTable, element);\n",
              "          const docLink = document.createElement('div');\n",
              "          docLink.innerHTML = docLinkHtml;\n",
              "          element.appendChild(docLink);\n",
              "        }\n",
              "      </script>\n",
              "    </div>\n",
              "  </div>\n",
              "  "
            ]
          },
          "metadata": {},
          "execution_count": 19
        }
      ],
      "source": [
        "df = raw_http_df[['date', '№1']]\n",
        "df.tail()"
      ]
    },
    {
      "cell_type": "code",
      "execution_count": 20,
      "id": "333c0a50",
      "metadata": {
        "id": "333c0a50"
      },
      "outputs": [],
      "source": [
        "import numpy as np\n",
        "from sklearn import linear_model\n",
        "\n",
        "\n",
        "def get_data(df):\n",
        "    # x = (raiting list #)\n",
        "    x = df.index.to_numpy().reshape(-1, 1)\n",
        "    y = np.log(df['№1'])\n",
        "    return x, y\n",
        "\n",
        "def get_x_to_predict(df):\n",
        "    # x = (raiting list #)\n",
        "    x = df.index.to_numpy().reshape(-1, 1)\n",
        "    dates_to_pred = ['2021-10-1', '2022-05-1', '2022-10-1', '2023-05-1',\n",
        "                     '2023-10-1', '2024-05-1', '2024-10-1', '2025-05-1']\n",
        "    x_to_pred = np.arange(x[-1:] + 1, x[-1:] + len(dates_to_pred) + 1)\n",
        "    return x_to_pred.reshape(-1, 1)\n",
        "\n",
        "    xs, y = get_data(df)\n",
        "    xp = get_x_to_predict(df)\n",
        "    model = linear_model.Ridge(fit_intercept=True).fit(xs, y)\n",
        "    ys = model.predict(xs)\n",
        "    yp = model.predict(xp)\n",
        "    print(model.coef_)"
      ]
    },
    {
      "cell_type": "code",
      "execution_count": 21,
      "id": "a2324f45",
      "metadata": {
        "colab": {
          "base_uri": "https://localhost:8080/",
          "height": 336
        },
        "id": "a2324f45",
        "outputId": "2bbb30e8-1695-432c-de82-8eabe8bb0806"
      },
      "outputs": [
        {
          "output_type": "display_data",
          "data": {
            "text/plain": [
              "<Figure size 1152x360 with 1 Axes>"
            ],
            "image/png": "[encoded data removed]"
          },
          "metadata": {
            "needs_background": "light"
          }
        },
        {
          "output_type": "stream",
          "name": "stdout",
          "text": [
            "Производительность топ компьютера на 2025 год - [12.80743527] Экзафлопс/с\n"
          ]
        }
      ],
      "source": [
        "import matplotlib as mpl\n",
        "import matplotlib.pyplot as plt\n",
        "figsize = (16,5)\n",
        "legend_fontsize = 16\n",
        "\n",
        "fig, ax = plt.subplots(figsize=figsize)\n",
        "ax.plot(ys, linewidth=2, color='red', label='model')\n",
        "ax.scatter(xs, y, color='grey', label='train')\n",
        "ax.scatter(xp, yp, color='blue', label='predict')\n",
        "ax.legend(fontsize=legend_fontsize)\n",
        "plt.show()\n",
        "\n",
        "print(f'Производительность топ компьютера на 2025 год - {np.exp(yp[-1:])/10**9} Экзафлопс/с', )"
      ]
    },
    {
      "cell_type": "markdown",
      "source": [
        "# Оцените, какой процент всего производимого на Земле электричества потребляют все компьютеры из top500 (на основании открытых данных top500.org)"
      ],
      "metadata": {
        "id": "IvNJFJ-wQsp8"
      },
      "id": "IvNJFJ-wQsp8"
    },
    {
      "cell_type": "code",
      "source": [
        "\n",
        "with open('energy_consumption_raw.txt', 'r') as f:\n",
        "    total_energy = 0\n",
        "    for line in f.readlines():\n",
        "        pos = line.find('eff')\n",
        "        if pos != -1:\n",
        "            E = float(line[(pos+5):][:-2])\n",
        "            total_energy += E\n",
        "    print(f'Электричество постребляемое компьютерами из TOP500 - {round((total_energy/10**9), 6)} ТВт*ч')\n",
        "    print(f'Это составляет {(total_energy/10**9)/26951*100:0.7f}% от всего производимого электричества на Земле')"
      ],
      "metadata": {
        "colab": {
          "base_uri": "https://localhost:8080/"
        },
        "id": "Y2JWPVXNMNUZ",
        "outputId": "01b0db7f-9b4b-47b4-ff8b-0ec49450729c"
      },
      "id": "Y2JWPVXNMNUZ",
      "execution_count": 22,
      "outputs": [
        {
          "output_type": "stream",
          "name": "stdout",
          "text": [
            "Электричество постребляемое компьютерами из TOP500 - 0.000344 ТВт*ч\n",
            "Это составляет 0.0000013% от всего производимого электричества на Земле\n"
          ]
        }
      ]
    }
  ],
  "metadata": {
    "kernelspec": {
      "display_name": "Python 3 (ipykernel)",
      "language": "python",
      "name": "python3"
    },
    "language_info": {
      "codemirror_mode": {
        "name": "ipython",
        "version": 3
      },
      "file_extension": ".py",
      "mimetype": "text/x-python",
      "name": "python",
      "nbconvert_exporter": "python",
      "pygments_lexer": "ipython3",
      "version": "3.8.0"
    },
    "colab": {
      "provenance": []
    }
  },
  "nbformat": 4,
  "nbformat_minor": 5
}