{
 "cells": [
  {
   "cell_type": "markdown",
   "id": "emdGUktsb0Zz",
   "metadata": {
    "id": "emdGUktsb0Zz"
   },
   "source": [
    "https://colab.research.google.com/drive/1MhilX3YsOvxzqfBAuMuVPH8J-biMDaFX?usp=sharing"
   ]
  },
  {
   "cell_type": "markdown",
   "id": "04517389",
   "metadata": {
    "id": "04517389"
   },
   "source": [
    "# На основании данных рейтинга top500 спрогнозировать  производительность компьютера №1 в 2025"
   ]
  },
  {
   "cell_type": "code",
   "execution_count": 10,
   "id": "1fb681ed",
   "metadata": {
    "colab": {
     "base_uri": "https://localhost:8080/",
     "height": 201
    },
    "id": "1fb681ed",
    "outputId": "a4179824-32e1-4d65-bc69-46e6793398a9"
   },
   "outputs": [
    {
     "data": {
      "text/html": [
       "<div>\n",
       "<style scoped>\n",
       "    .dataframe tbody tr th:only-of-type {\n",
       "        vertical-align: middle;\n",
       "    }\n",
       "\n",
       "    .dataframe tbody tr th {\n",
       "        vertical-align: top;\n",
       "    }\n",
       "\n",
       "    .dataframe thead th {\n",
       "        text-align: right;\n",
       "    }\n",
       "</style>\n",
       "<table border=\"1\" class=\"dataframe\">\n",
       "  <thead>\n",
       "    <tr style=\"text-align: right;\">\n",
       "      <th></th>\n",
       "      <th>date</th>\n",
       "      <th>sum</th>\n",
       "      <th>sum_str</th>\n",
       "      <th>№1</th>\n",
       "      <th>№1_str</th>\n",
       "      <th>№500</th>\n",
       "      <th>№500_str</th>\n",
       "    </tr>\n",
       "  </thead>\n",
       "  <tbody>\n",
       "    <tr>\n",
       "      <th>0</th>\n",
       "      <td>1993-5-1</td>\n",
       "      <td>1128.57</td>\n",
       "      <td>06/1993: Sum = 1.1 TFlop/s</td>\n",
       "      <td>59.7</td>\n",
       "      <td>06/1993: #1 = 59.7 GFlop/s</td>\n",
       "      <td>0.42</td>\n",
       "      <td>06/1993: #500 = 0.4 GFlop/s]</td>\n",
       "    </tr>\n",
       "    <tr>\n",
       "      <th>1</th>\n",
       "      <td>1993-10-1</td>\n",
       "      <td>1493.35</td>\n",
       "      <td>11/1993: Sum = 1.5 TFlop/s</td>\n",
       "      <td>124.0</td>\n",
       "      <td>11/1993: #1 = 124.0 GFlop/s</td>\n",
       "      <td>0.47</td>\n",
       "      <td>11/1993: #500 = 0.5 GFlop/s]</td>\n",
       "    </tr>\n",
       "    <tr>\n",
       "      <th>2</th>\n",
       "      <td>1994-5-1</td>\n",
       "      <td>2317.01</td>\n",
       "      <td>06/1994: Sum = 2.3 TFlop/s</td>\n",
       "      <td>143.4</td>\n",
       "      <td>06/1994: #1 = 143.4 GFlop/s</td>\n",
       "      <td>0.84</td>\n",
       "      <td>06/1994: #500 = 0.8 GFlop/s]</td>\n",
       "    </tr>\n",
       "    <tr>\n",
       "      <th>3</th>\n",
       "      <td>1994-10-1</td>\n",
       "      <td>2732.24</td>\n",
       "      <td>11/1994: Sum = 2.7 TFlop/s</td>\n",
       "      <td>170.0</td>\n",
       "      <td>11/1994: #1 = 170.0 GFlop/s</td>\n",
       "      <td>1.16</td>\n",
       "      <td>11/1994: #500 = 1.2 GFlop/s]</td>\n",
       "    </tr>\n",
       "    <tr>\n",
       "      <th>4</th>\n",
       "      <td>1995-5-1</td>\n",
       "      <td>3927.00</td>\n",
       "      <td>06/1995: Sum = 3.9 TFlop/s</td>\n",
       "      <td>170.0</td>\n",
       "      <td>06/1995: #1 = 170.0 GFlop/s</td>\n",
       "      <td>1.96</td>\n",
       "      <td>06/1995: #500 = 2.0 GFlop/s]</td>\n",
       "    </tr>\n",
       "  </tbody>\n",
       "</table>\n",
       "</div>"
      ],
      "text/plain": [
       "        date      sum                     sum_str     №1  \\\n",
       "0   1993-5-1  1128.57  06/1993: Sum = 1.1 TFlop/s   59.7   \n",
       "1  1993-10-1  1493.35  11/1993: Sum = 1.5 TFlop/s  124.0   \n",
       "2   1994-5-1  2317.01  06/1994: Sum = 2.3 TFlop/s  143.4   \n",
       "3  1994-10-1  2732.24  11/1994: Sum = 2.7 TFlop/s  170.0   \n",
       "4   1995-5-1  3927.00  06/1995: Sum = 3.9 TFlop/s  170.0   \n",
       "\n",
       "                        №1_str  №500                      №500_str  \n",
       "0   06/1993: #1 = 59.7 GFlop/s  0.42  06/1993: #500 = 0.4 GFlop/s]  \n",
       "1  11/1993: #1 = 124.0 GFlop/s  0.47  11/1993: #500 = 0.5 GFlop/s]  \n",
       "2  06/1994: #1 = 143.4 GFlop/s  0.84  06/1994: #500 = 0.8 GFlop/s]  \n",
       "3  11/1994: #1 = 170.0 GFlop/s  1.16  11/1994: #500 = 1.2 GFlop/s]  \n",
       "4  06/1995: #1 = 170.0 GFlop/s  1.96  06/1995: #500 = 2.0 GFlop/s]  "
      ]
     },
     "execution_count": 10,
     "metadata": {},
     "output_type": "execute_result"
    }
   ],
   "source": [
    "import pandas as pd\n",
    "\n",
    "names = ['date', 'sum', 'sum_str', '№1', '№1_str', '№500', '№500_str']\n",
    "raw_http_df = pd.read_csv('top500.csv', names=names)\n",
    "raw_http_df.head()"
   ]
  },
  {
   "cell_type": "code",
   "execution_count": 11,
   "id": "f9b08fd8",
   "metadata": {
    "colab": {
     "base_uri": "https://localhost:8080/",
     "height": 201
    },
    "id": "f9b08fd8",
    "outputId": "be81a312-9570-408d-b5dc-181ed8806917"
   },
   "outputs": [
    {
     "data": {
      "text/html": [
       "<div>\n",
       "<style scoped>\n",
       "    .dataframe tbody tr th:only-of-type {\n",
       "        vertical-align: middle;\n",
       "    }\n",
       "\n",
       "    .dataframe tbody tr th {\n",
       "        vertical-align: top;\n",
       "    }\n",
       "\n",
       "    .dataframe thead th {\n",
       "        text-align: right;\n",
       "    }\n",
       "</style>\n",
       "<table border=\"1\" class=\"dataframe\">\n",
       "  <thead>\n",
       "    <tr style=\"text-align: right;\">\n",
       "      <th></th>\n",
       "      <th>date</th>\n",
       "      <th>№1</th>\n",
       "    </tr>\n",
       "  </thead>\n",
       "  <tbody>\n",
       "    <tr>\n",
       "      <th>52</th>\n",
       "      <td>2019-5-1</td>\n",
       "      <td>148600000.0</td>\n",
       "    </tr>\n",
       "    <tr>\n",
       "      <th>53</th>\n",
       "      <td>2019-10-1</td>\n",
       "      <td>148600000.0</td>\n",
       "    </tr>\n",
       "    <tr>\n",
       "      <th>54</th>\n",
       "      <td>2020-5-1</td>\n",
       "      <td>415530000.0</td>\n",
       "    </tr>\n",
       "    <tr>\n",
       "      <th>55</th>\n",
       "      <td>2020-10-1</td>\n",
       "      <td>442010000.0</td>\n",
       "    </tr>\n",
       "    <tr>\n",
       "      <th>56</th>\n",
       "      <td>2021-5-1</td>\n",
       "      <td>442010000.0</td>\n",
       "    </tr>\n",
       "  </tbody>\n",
       "</table>\n",
       "</div>"
      ],
      "text/plain": [
       "         date           №1\n",
       "52   2019-5-1  148600000.0\n",
       "53  2019-10-1  148600000.0\n",
       "54   2020-5-1  415530000.0\n",
       "55  2020-10-1  442010000.0\n",
       "56   2021-5-1  442010000.0"
      ]
     },
     "execution_count": 11,
     "metadata": {},
     "output_type": "execute_result"
    }
   ],
   "source": [
    "df = raw_http_df[['date', '№1']]\n",
    "df.tail()"
   ]
  },
  {
   "cell_type": "code",
   "execution_count": 12,
   "id": "333c0a50",
   "metadata": {
    "id": "333c0a50"
   },
   "outputs": [
    {
     "ename": "ModuleNotFoundError",
     "evalue": "No module named 'sklearn'",
     "output_type": "error",
     "traceback": [
      "\u001b[0;31m---------------------------------------------------------------------------\u001b[0m",
      "\u001b[0;31mModuleNotFoundError\u001b[0m                       Traceback (most recent call last)",
      "Cell \u001b[0;32mIn[12], line 2\u001b[0m\n\u001b[1;32m      1\u001b[0m \u001b[38;5;28;01mimport\u001b[39;00m \u001b[38;5;21;01mnumpy\u001b[39;00m \u001b[38;5;28;01mas\u001b[39;00m \u001b[38;5;21;01mnp\u001b[39;00m\n\u001b[0;32m----> 2\u001b[0m \u001b[38;5;28;01mfrom\u001b[39;00m \u001b[38;5;21;01msklearn\u001b[39;00m \u001b[38;5;28;01mimport\u001b[39;00m linear_model\n\u001b[1;32m      5\u001b[0m \u001b[38;5;28;01mdef\u001b[39;00m \u001b[38;5;21mget_data\u001b[39m(df):\n\u001b[1;32m      6\u001b[0m     \u001b[38;5;66;03m# x = (raiting list #)\u001b[39;00m\n\u001b[1;32m      7\u001b[0m     x \u001b[38;5;241m=\u001b[39m df\u001b[38;5;241m.\u001b[39mindex\u001b[38;5;241m.\u001b[39mto_numpy()\u001b[38;5;241m.\u001b[39mreshape(\u001b[38;5;241m-\u001b[39m\u001b[38;5;241m1\u001b[39m, \u001b[38;5;241m1\u001b[39m)\n",
      "\u001b[0;31mModuleNotFoundError\u001b[0m: No module named 'sklearn'"
     ]
    }
   ],
   "source": [
    "import numpy as np\n",
    "from sklearn import linear_model\n",
    "\n",
    "\n",
    "def get_data(df):\n",
    "    # x = (raiting list #)\n",
    "    x = df.index.to_numpy().reshape(-1, 1)\n",
    "    y = np.log(df['№1'])\n",
    "    return x, y\n",
    "\n",
    "def get_x_to_predict(df):\n",
    "    # x = (raiting list #)\n",
    "    x = df.index.to_numpy().reshape(-1, 1)\n",
    "    dates_to_pred = ['2021-10-1', '2022-05-1', '2022-10-1', '2023-05-1',\n",
    "                     '2023-10-1', '2024-05-1', '2024-10-1', '2025-05-1']\n",
    "    x_to_pred = np.arange(x[-1:] + 1, x[-1:] + len(dates_to_pred) + 1)\n",
    "    return x_to_pred.reshape(-1, 1)\n",
    "\n",
    "    xs, y = get_data(df)\n",
    "    xp = get_x_to_predict(df)\n",
    "    model = linear_model.Ridge(fit_intercept=True).fit(xs, y)\n",
    "    ys = model.predict(xs)\n",
    "    yp = model.predict(xp)\n",
    "    print(model.coef_)"
   ]
  },
  {
   "cell_type": "code",
   "execution_count": 9,
   "id": "a2324f45",
   "metadata": {
    "colab": {
     "base_uri": "https://localhost:8080/",
     "height": 336
    },
    "id": "a2324f45",
    "outputId": "2bbb30e8-1695-432c-de82-8eabe8bb0806"
   },
   "outputs": [
    {
     "ename": "ModuleNotFoundError",
     "evalue": "No module named 'matplotlib'",
     "output_type": "error",
     "traceback": [
      "\u001b[0;31m---------------------------------------------------------------------------\u001b[0m",
      "\u001b[0;31mModuleNotFoundError\u001b[0m                       Traceback (most recent call last)",
      "Cell \u001b[0;32mIn[9], line 1\u001b[0m\n\u001b[0;32m----> 1\u001b[0m \u001b[38;5;28;01mimport\u001b[39;00m \u001b[38;5;21;01mmatplotlib\u001b[39;00m \u001b[38;5;28;01mas\u001b[39;00m \u001b[38;5;21;01mmpl\u001b[39;00m\n\u001b[1;32m      2\u001b[0m \u001b[38;5;28;01mimport\u001b[39;00m \u001b[38;5;21;01mmatplotlib\u001b[39;00m\u001b[38;5;21;01m.\u001b[39;00m\u001b[38;5;21;01mpyplot\u001b[39;00m \u001b[38;5;28;01mas\u001b[39;00m \u001b[38;5;21;01mplt\u001b[39;00m\n\u001b[1;32m      3\u001b[0m figsize \u001b[38;5;241m=\u001b[39m (\u001b[38;5;241m16\u001b[39m,\u001b[38;5;241m5\u001b[39m)\n",
      "\u001b[0;31mModuleNotFoundError\u001b[0m: No module named 'matplotlib'"
     ]
    }
   ],
   "source": [
    "import matplotlib as mpl\n",
    "import matplotlib.pyplot as plt\n",
    "figsize = (16,5)\n",
    "legend_fontsize = 16\n",
    "\n",
    "fig, ax = plt.subplots(figsize=figsize)\n",
    "ax.plot(ys, linewidth=2, color='red', label='model')\n",
    "ax.scatter(xs, y, color='grey', label='train')\n",
    "ax.scatter(xp, yp, color='blue', label='predict')\n",
    "ax.legend(fontsize=legend_fontsize)\n",
    "plt.show()\n",
    "\n",
    "print(f'Производительность топ компьютера на 2025 год - {np.exp(yp[-1:])/10**9} Экзафлопс/с', )"
   ]
  },
  {
   "cell_type": "markdown",
   "id": "IvNJFJ-wQsp8",
   "metadata": {
    "id": "IvNJFJ-wQsp8"
   },
   "source": [
    "# Оцените, какой процент всего производимого на Земле электричества потребляют все компьютеры из top500 (на основании открытых данных top500.org)"
   ]
  },
  {
   "cell_type": "code",
   "execution_count": 22,
   "id": "Y2JWPVXNMNUZ",
   "metadata": {
    "colab": {
     "base_uri": "https://localhost:8080/"
    },
    "id": "Y2JWPVXNMNUZ",
    "outputId": "01b0db7f-9b4b-47b4-ff8b-0ec49450729c"
   },
   "outputs": [
    {
     "name": "stdout",
     "output_type": "stream",
     "text": [
      "Электричество постребляемое компьютерами из TOP500 - 0.000344 ТВт*ч\n",
      "Это составляет 0.0000013% от всего производимого электричества на Земле\n"
     ]
    }
   ],
   "source": [
    "\n",
    "with open('energy_consumption_raw.txt', 'r') as f:\n",
    "    total_energy = 0\n",
    "    for line in f.readlines():\n",
    "        pos = line.find('eff')\n",
    "        if pos != -1:\n",
    "            E = float(line[(pos+5):][:-2])\n",
    "            total_energy += E\n",
    "    print(f'Электричество постребляемое компьютерами из TOP500 - {round((total_energy/10**9), 6)} ТВт*ч')\n",
    "    print(f'Это составляет {(total_energy/10**9)/26951*100:0.7f}% от всего производимого электричества на Земле')"
   ]
  }
 ],
 "metadata": {
  "colab": {
   "provenance": []
  },
  "kernelspec": {
   "display_name": "Python 3 (ipykernel)",
   "language": "python",
   "name": "python3"
  },
  "language_info": {
   "codemirror_mode": {
    "name": "ipython",
    "version": 3
   },
   "file_extension": ".py",
   "mimetype": "text/x-python",
   "name": "python",
   "nbconvert_exporter": "python",
   "pygments_lexer": "ipython3",
   "version": "3.10.7"
  }
 },
 "nbformat": 4,
 "nbformat_minor": 5
}
